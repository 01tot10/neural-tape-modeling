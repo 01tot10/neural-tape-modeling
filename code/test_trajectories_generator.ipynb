{
 "cells": [
  {
   "cell_type": "markdown",
   "metadata": {},
   "source": [
    "# Test Trajectory Generator\n",
    "\n",
    "Generate batch of trajectories, visualize waveforms and statistics"
   ]
  },
  {
   "cell_type": "markdown",
   "metadata": {},
   "source": [
    "### Imports"
   ]
  },
  {
   "cell_type": "code",
   "execution_count": 46,
   "metadata": {},
   "outputs": [],
   "source": [
    "import torch\n",
    "import glob\n",
    "import os\n",
    "import soundfile as sf\n",
    "import torchaudio\n",
    "import matplotlib.pyplot as plt\n",
    "import matplotlib as mpl\n",
    "import numpy as np\n",
    "\n",
    "from model import DiffusionGenerator\n",
    "from omegaconf import OmegaConf\n",
    "from utilities.utilities import Eloi_Prettyfier as Prettyfier"
   ]
  },
  {
   "cell_type": "markdown",
   "metadata": {},
   "source": [
    "### Setup"
   ]
  },
  {
   "cell_type": "code",
   "execution_count": 47,
   "metadata": {},
   "outputs": [],
   "source": [
    "# Global\n",
    "RESULTS_PATH = \"../results/\"\n",
    "DATA_PATH = \"../audio/\"\n",
    "SAVE_FIGS = True\n",
    "\n",
    "# Target\n",
    "TARGET = \"Toy\" # in [\"Toy\", \"Real\"]\n",
    "\n",
    "# Batch\n",
    "fs = 100\n",
    "BATCH_SIZE = 256\n",
    "SAMPLE_LENGTH = 512\n",
    "\n",
    "assert TARGET in [\"Toy\", \"Real\"], \"Choose either 'Toy' or 'Real' as TARGET\"\n",
    "if TARGET == \"Toy\":\n",
    "    path_trajectories = f\"{DATA_PATH}/ReelToReel_Dataset_MiniPulse100_CHOWTAPE_F[0.6]_SL[60]_TRAJECTORIES/Train\"\n",
    "    config = \"../configs/conf_toytrajectories.yaml\"\n",
    "    MEAN_DELAY = 0.0271\n",
    "    TICK_SPACING = 10        # in [ms]\n",
    "    X_LIMS = [0.1, 50]\n",
    "    X_TICKS = [0.1, 0.2, .5, 1, 2, 5, 10, 50, 50]\n",
    "    LTAS_normalization = 0\n",
    "else:\n",
    "    path_trajectories = f\"{DATA_PATH}ReelToReel_Dataset_Mini192kHzPulse100_AKAI_IPS[7.5]_MAXELL_TRAJECTORIES_SPLIT/Train\"\n",
    "    config = \"../configs/conf_trajectories.yaml\"\n",
    "    MEAN_DELAY = 160.5 / 1e3 # in [s]\n",
    "    TICK_SPACING = 0.25      # in [ms]\n",
    "    X_LIMS = [1, 50]\n",
    "    X_TICKS = [1, 2, 5, 10, 20, 50]\n",
    "    LTAS_normalization = 40"
   ]
  },
  {
   "cell_type": "markdown",
   "metadata": {},
   "source": [
    "# Trajectory Generation\n",
    "\n",
    "Create trajectory generator and sample batch"
   ]
  },
  {
   "cell_type": "code",
   "execution_count": 48,
   "metadata": {},
   "outputs": [
    {
     "name": "stdout",
     "output_type": "stream",
     "text": [
      "dict_keys(['it', 'network', 'optimizer', 'ema', 'args'])\n",
      "Generated trajectories (batch): torch.Size([256, 512])\n"
     ]
    }
   ],
   "source": [
    "# Create generator\n",
    "args = OmegaConf.load(config)\n",
    "args.diff_params.T = 10 # with kess steps, the output is somehow softer (over-denoised)\n",
    "device = \"cuda\" if torch.cuda.is_available() else \"cpu\"\n",
    "\n",
    "generator = DiffusionGenerator(args, device)\n",
    "\n",
    "# Generate batch\n",
    "pred_batch = generator.sample_batch(BATCH_SIZE)\n",
    "pred_batch += MEAN_DELAY\n",
    "\n",
    "print(f\"Generated trajectories (batch): {pred_batch.shape}\")\n",
    "\n",
    "# Generate single\n",
    "# pred = generator.sample_long(10)\n",
    "# pred += MEAN_DELAY\n",
    "\n",
    "# print(f\"Generated trajectories (single): {pred.shape}\")"
   ]
  },
  {
   "cell_type": "markdown",
   "metadata": {},
   "source": [
    "### Real Trajectories\n",
    "\n",
    "Sample batch of real trajectories"
   ]
  },
  {
   "cell_type": "code",
   "execution_count": 49,
   "metadata": {},
   "outputs": [
    {
     "name": "stdout",
     "output_type": "stream",
     "text": [
      "Processing 256/256 ... Done!\n",
      "Real trajectories: torch.Size([256, 512])\n"
     ]
    }
   ],
   "source": [
    "# Load all wav files in the directory\n",
    "orig_p = os.getcwd()\n",
    "os.chdir(path_trajectories)\n",
    "filelist = glob.glob(\"*.wav\")\n",
    "filelist = [os.path.join(path_trajectories, f) for f in filelist]\n",
    "test_file = filelist[0]\n",
    "os.chdir(orig_p)\n",
    "\n",
    "# Sample batch\n",
    "batch = torch.zeros((BATCH_SIZE, SAMPLE_LENGTH), device=\"cpu\")\n",
    "j = 0\n",
    "while j < BATCH_SIZE:\n",
    "    for a in filelist:\n",
    "        if j >= BATCH_SIZE:\n",
    "            break\n",
    "        print(f\"Processing {j+1}/{BATCH_SIZE} ...\", end='\\r')\n",
    "        x, fs_file = sf.read(a)\n",
    "\n",
    "        # Downsample to 100 Hz\n",
    "        x = torch.from_numpy(x)\n",
    "        if fs_file != fs:\n",
    "            x = torchaudio.functional.resample(x, fs_file, fs)\n",
    "\n",
    "        # Crop a 512 samples chunk\n",
    "        for k in range(4):\n",
    "            i = torch.randint(0, x.shape[0] - SAMPLE_LENGTH, (1,))\n",
    "            batch[j] = x[i:i + SAMPLE_LENGTH]\n",
    "            j += 1\n",
    "print(f\"Processing {j}/{BATCH_SIZE} ... Done!\")\n",
    "\n",
    "batch = batch - batch.mean(-1, keepdim=True) + MEAN_DELAY\n",
    "\n",
    "print(f\"Real trajectories: {batch.shape}\")"
   ]
  },
  {
   "cell_type": "markdown",
   "metadata": {},
   "source": [
    "## Visualizations\n",
    "\n",
    "### Waveform plot"
   ]
  },
  {
   "cell_type": "code",
   "execution_count": 58,
   "metadata": {},
   "outputs": [
    {
     "data": {
      "image/png": "[encoded data removed]",
      "text/plain": [
       "<Figure size 327x81.75 with 2 Axes>"
      ]
     },
     "metadata": {},
     "output_type": "display_data"
    }
   ],
   "source": [
    "# Settings\n",
    "FIG_MULTIPLIER = 1.0\n",
    "COLS = 2\n",
    "ROWS = 1\n",
    "RATIO = (COLS * 2, 1)\n",
    "NFFT = int(2**15)\n",
    "PLOT_BATCH_SIZE = 4\n",
    "labels_input = [\"input, L\", \"input, R\"]\n",
    "labels_target = [\"output, L\", \"output, R\"]\n",
    "\n",
    "prettyfier = Prettyfier(mode=\"paper_1col\", ratio=RATIO)\n",
    "prettyfier.font_size *= 0.95\n",
    "\n",
    "ALPHA = prettyfier.alpha\n",
    "DB_LIMS = prettyfier.db_lims\n",
    "\n",
    "gs = plt.GridSpec(ROWS, COLS)\n",
    "\n",
    "prop_cycle = plt.rcParams['axes.prop_cycle']\n",
    "colors = prop_cycle.by_key()['color']\n",
    "\n",
    "plt.rcParams['font.family'] = prettyfier.font_type\n",
    "plt.rcParams['font.size'] = prettyfier.font_size\n",
    "plt.rcParams['axes.labelsize'] = prettyfier.font_size * 6.0 / 6.0\n",
    "plt.rcParams['xtick.labelsize'] = prettyfier.font_size * 5.0 / 6.0\n",
    "plt.rcParams['ytick.labelsize'] = prettyfier.font_size * 5.0 / 6.0\n",
    "plt.rcParams['lines.linewidth'] = prettyfier.line_width * 0.5\n",
    "\n",
    "## Start plotting\n",
    "\n",
    "t = np.arange(0, batch.shape[-1] / fs, 1 / fs)\n",
    "\n",
    "fig = plt.figure(0, (prettyfier.fig_size[0] * FIG_MULTIPLIER,\n",
    "                     prettyfier.fig_size[1] * FIG_MULTIPLIER))\n",
    "fig.clf()\n",
    "\n",
    "# Real trajectories\n",
    "ax = fig.add_subplot(gs[0])\n",
    "\n",
    "# Plot a batch of trajectories\n",
    "# Randomize the order of the trajectories in batch\n",
    "batch = batch[torch.randperm(batch.shape[0])]\n",
    "for i in range(PLOT_BATCH_SIZE):\n",
    "    ax.plot(t, 1000 * batch[i].flatten().numpy())\n",
    "\n",
    "ax.set_title('(a) Measured', y=-1.0)\n",
    "ax.set_xlabel('Time [s]')\n",
    "ax.xaxis.set_major_locator(mpl.ticker.IndexLocator(base=2.5, offset=0))\n",
    "ax.set_ylabel('Delay [ms]')\n",
    "ax.yaxis.set_major_locator(mpl.ticker.MultipleLocator(TICK_SPACING))\n",
    "y_lims = ax.get_ylim()\n",
    "ax.grid()\n",
    "\n",
    "# Generated trajectories\n",
    "ax = fig.add_subplot(gs[1])\n",
    "\n",
    "pred_batch = pred_batch[torch.randperm(pred_batch.shape[0])]\n",
    "for i in range(PLOT_BATCH_SIZE):\n",
    "    ax.plot(t, 1000 * pred_batch[i].flatten().numpy())\n",
    "\n",
    "ax.set_title('(b) Generated', y=-1.0)\n",
    "ax.set_xlabel('Time [s]')\n",
    "ax.xaxis.set_major_locator(mpl.ticker.IndexLocator(base=2.5, offset=0))\n",
    "# ax.set_ylabel('Delay [ms]')\n",
    "ax.yaxis.set_major_locator(mpl.ticker.MultipleLocator(TICK_SPACING))\n",
    "ax.set_ylim(y_lims)\n",
    "ax.set_yticklabels([])\n",
    "ax.grid()\n",
    "\n",
    "# Limit space between subplots\n",
    "# plt.subplots_adjust(hspace=0.7)\n",
    "# plt.subplots_adjust(wspace=0.4)\n",
    "\n",
    "plt.show()\n",
    "\n",
    "if SAVE_FIGS:\n",
    "    fig.savefig(f\"{RESULTS_PATH}trajectories.pdf\", bbox_inches='tight') # PDF\n",
    "    fig.savefig(f\"{RESULTS_PATH}trajectories.png\", bbox_inches='tight') # PNG"
   ]
  },
  {
   "cell_type": "markdown",
   "metadata": {},
   "source": [
    "### Statistics"
   ]
  },
  {
   "cell_type": "markdown",
   "metadata": {},
   "source": [
    "Compute statistics"
   ]
  },
  {
   "cell_type": "code",
   "execution_count": 22,
   "metadata": {},
   "outputs": [
    {
     "name": "stdout",
     "output_type": "stream",
     "text": [
      "Computing LTAS for real trajectories... Done!\n",
      "Computing LTAS for generated trajectories... Done!\n"
     ]
    }
   ],
   "source": [
    "def LTAS(batch):\n",
    "    \"\"\"Compute the LTAS of a batch of trajectories.\"\"\"\n",
    "    # Setup\n",
    "    batch_size = batch.shape[0]\n",
    "    length = batch.shape[1]\n",
    "\n",
    "    # Compute\n",
    "    LTAS_batch = torch.zeros((batch_size, length // 2 + 1), device=\"cpu\")\n",
    "    for i in range(batch_size):\n",
    "        LTAS_batch[i] = (torch.abs(torch.fft.rfft(batch[i])))\n",
    "\n",
    "    # Take statistics\n",
    "    LTAS_batch_mean = (LTAS_batch.mean(0))\n",
    "    LTAS_std_top = LTAS_batch_mean + LTAS_batch.std(0)\n",
    "    LTAS_std_bottom = LTAS_batch_mean - LTAS_batch.std(0)\n",
    "\n",
    "    # Smoothing\n",
    "    # LTAS_batch=torch.nn.functional.avg_pool1d(LTAS_batch.unsqueeze(0).unsqueeze(0), kernel_size=5, stride=1, padding=2, ceil_mode=False).squeeze()\n",
    "    # Convert to dV\n",
    "    # LTAS_batch_mean=20*torch.log10(LTAS_batch_mean)\n",
    "    # LTAS_batch_std=20*torch.log10(LTAS_std)\n",
    "\n",
    "    return 20 * torch.log10(LTAS_batch_mean), 20 * torch.log10(\n",
    "        LTAS_std_top), 20 * torch.log10(LTAS_std_bottom)\n",
    "\n",
    "\n",
    "print(\"Computing LTAS for real trajectories...\", end='')\n",
    "LTAS_mean, LTAS_std_up, LTAS_std_bottom = LTAS(batch - MEAN_DELAY)\n",
    "print(\" Done!\")\n",
    "print(\"Computing LTAS for generated trajectories...\", end='')\n",
    "pred_LTAS_mean, pred_LTAS_std_up, pred_LTAS_std_bottom = LTAS(pred_batch -\n",
    "                                                              MEAN_DELAY)\n",
    "print(\" Done!\")\n",
    "\n",
    "# Normalize results\n",
    "LTAS_mean += LTAS_normalization\n",
    "LTAS_std_bottom += LTAS_normalization\n",
    "LTAS_std_up += LTAS_normalization\n",
    "pred_LTAS_mean += LTAS_normalization\n",
    "pred_LTAS_std_up += LTAS_normalization\n",
    "pred_LTAS_std_bottom += LTAS_normalization"
   ]
  },
  {
   "cell_type": "markdown",
   "metadata": {},
   "source": [
    "Plot statistics"
   ]
  },
  {
   "cell_type": "code",
   "execution_count": 23,
   "metadata": {},
   "outputs": [
    {
     "data": {
      "image/png": "[encoded data removed]",
      "text/plain": [
       "<Figure size 327x186.857 with 1 Axes>"
      ]
     },
     "metadata": {},
     "output_type": "display_data"
    }
   ],
   "source": [
    "# SETUP\n",
    "FIG_MULTIPLIER = 1.0\n",
    "COLS = 1\n",
    "ROWS = 1\n",
    "RATIO = (1.75, 1)\n",
    "NFFT = int(2**15)\n",
    "PLOT_BATCH_SIZE = 4\n",
    "\n",
    "prettyfier = Prettyfier(mode=\"paper_1col\", ratio=RATIO)\n",
    "prettyfier.font_size *= 0.95\n",
    "\n",
    "ALPHA = prettyfier.alpha\n",
    "DB_LIMS = prettyfier.db_lims\n",
    "\n",
    "gs = plt.GridSpec(ROWS, COLS)\n",
    "\n",
    "prop_cycle = plt.rcParams['axes.prop_cycle']\n",
    "colors = prop_cycle.by_key()['color']\n",
    "\n",
    "labels_input = [\"input, L\", \"input, R\"]\n",
    "labels_target = [\"output, L\", \"output, R\"]\n",
    "\n",
    "plt.rcParams['font.family'] = prettyfier.font_type\n",
    "plt.rcParams['font.size'] = prettyfier.font_size\n",
    "plt.rcParams['axes.labelsize'] = prettyfier.font_size * 6.0 / 6.0\n",
    "plt.rcParams['xtick.labelsize'] = prettyfier.font_size * 5 / 6.0\n",
    "plt.rcParams['ytick.labelsize'] = prettyfier.font_size * 5 / 6.0\n",
    "plt.rcParams['lines.linewidth'] = prettyfier.line_width * 0.5\n",
    "\n",
    "# Start plotting\n",
    "\n",
    "t = np.arange(0, batch.shape[-1] / fs, 1 / fs)\n",
    "f = np.arange(0, fs / 2, fs / SAMPLE_LENGTH)\n",
    "\n",
    "fig = plt.figure(0, (prettyfier.fig_size[0] * FIG_MULTIPLIER,\n",
    "                     prettyfier.fig_size[1] * FIG_MULTIPLIER))\n",
    "fig.clf()\n",
    "\n",
    "# Real\n",
    "ax = fig.add_subplot(gs[0, 0])\n",
    "\n",
    "mu = LTAS_mean[0:-1].flatten().numpy()\n",
    "sigma_bottom = LTAS_std_bottom[0:-1].flatten().numpy()\n",
    "sigma_up = LTAS_std_up[0:-1].flatten().numpy()\n",
    "\n",
    "ax.plot(f, mu, color=\"red\", label=\"Measured\")\n",
    "ax.fill_between(f, sigma_up, sigma_bottom, facecolor='red', alpha=0.3)\n",
    "\n",
    "# Generated\n",
    "mu = pred_LTAS_mean[0:-1].flatten().numpy()\n",
    "sigma_up = pred_LTAS_std_up[0:-1].flatten().numpy()\n",
    "sigma_bottom = pred_LTAS_std_bottom[0:-1].flatten().numpy()\n",
    "\n",
    "ax.plot(f, mu, color=\"green\", label=\"Generated\")\n",
    "ax.fill_between(f, sigma_up, sigma_bottom, facecolor='green', alpha=0.3)\n",
    "\n",
    "ax.set_title('Averaged spectra',)\n",
    "\n",
    "ax.set_ylabel('Magnitude [dB]')\n",
    "ax.set_ylim(-50, 10)\n",
    "ax.set_xlabel('Frequency [Hz]')\n",
    "\n",
    "ax.set_xscale(\"log\")\n",
    "ax.set_xlim(X_LIMS)\n",
    "ax.set_xticks(X_TICKS)\n",
    "ax.set_xticklabels(X_TICKS)\n",
    "\n",
    "ax.legend(loc='upper right')\n",
    "ax.grid()\n",
    "\n",
    "plt.tight_layout()\n",
    "\n",
    "plt.show()\n",
    "\n",
    "if SAVE_FIGS:\n",
    "    fig.savefig(\"../results/spectra.pdf\", bbox_inches='tight') # PDF\n",
    "    fig.savefig(\"../results/spectra.png\", bbox_inches='tight') # PNG"
   ]
  },
  {
   "cell_type": "code",
   "execution_count": null,
   "metadata": {},
   "outputs": [],
   "source": []
  }
 ],
 "metadata": {
  "kernelspec": {
   "display_name": "Python 3 (ipykernel)",
   "language": "python",
   "name": "python3"
  },
  "language_info": {
   "codemirror_mode": {
    "name": "ipython",
    "version": 3
   },
   "file_extension": ".py",
   "mimetype": "text/x-python",
   "name": "python",
   "nbconvert_exporter": "python",
   "pygments_lexer": "ipython3",
   "version": "3.9.15"
  },
  "vscode": {
   "interpreter": {
    "hash": "1855d0231afb5169cb856d2672d433d34491c9c8c12df85d7b5714aea67ec08c"
   }
  }
 },
 "nbformat": 4,
 "nbformat_minor": 2
}
