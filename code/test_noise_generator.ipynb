{
 "cells": [
  {
   "cell_type": "markdown",
   "metadata": {},
   "source": [
    "# Test Noise Generator\n",
    "\n",
    "Generate batch of noise and compute LTAS statistics.\n",
    "\n",
    "Additionally, generate a longer sample of noise for listening"
   ]
  },
  {
   "cell_type": "markdown",
   "metadata": {},
   "source": [
    "### Imports"
   ]
  },
  {
   "cell_type": "code",
   "execution_count": 8,
   "metadata": {},
   "outputs": [],
   "source": [
    "import torch\n",
    "import glob\n",
    "import os\n",
    "import torchaudio\n",
    "import numpy as np\n",
    "import soundfile as sf\n",
    "import sounddevice as sd\n",
    "import matplotlib.pyplot as plt\n",
    "import matplotlib as mpl\n",
    "\n",
    "from utilities.utilities import Eloi_Prettyfier as Prettyfier\n",
    "from model import DiffusionGenerator\n",
    "from omegaconf import OmegaConf\n",
    "from utilities.utilities import smooth_spectrum"
   ]
  },
  {
   "cell_type": "markdown",
   "metadata": {},
   "source": [
    "### Setup"
   ]
  },
  {
   "cell_type": "code",
   "execution_count": 9,
   "metadata": {},
   "outputs": [],
   "source": [
    "# Global\n",
    "RESULTS_PATH = \"../results/\"\n",
    "DATA_PATH = \"../audio/\"\n",
    "SAVE_FIGS = True\n",
    "# DATA_PATH = /u/25/molinee2/unix/triton_work_asp/neural-tape-audio/\n",
    "\n",
    "# Batch\n",
    "fs = 44100\n",
    "BATCH_SIZE = 128\n",
    "SAMPLE_LENGTH = 65536"
   ]
  },
  {
   "cell_type": "markdown",
   "metadata": {},
   "source": [
    "### Noise Generation\n",
    "\n",
    "Create noise generator and sample batch"
   ]
  },
  {
   "cell_type": "code",
   "execution_count": 10,
   "metadata": {},
   "outputs": [
    {
     "name": "stdout",
     "output_type": "stream",
     "text": [
      "dict_keys(['it', 'network', 'optimizer', 'ema', 'args'])\n",
      "Generated trajectories (batch): torch.Size([128, 65536])\n"
     ]
    }
   ],
   "source": [
    "# Create generator\n",
    "args = OmegaConf.load(\"../configs/conf_noise.yaml\")\n",
    "args.diff_params.T = 16\n",
    "device = \"cuda\" if torch.cuda.is_available() else \"cpu\"\n",
    "\n",
    "generator = DiffusionGenerator(args, device)\n",
    "\n",
    "# Generate noise\n",
    "pred_batch = generator.sample_batch(BATCH_SIZE)\n",
    "print(f\"Generated trajectories (batch): {pred_batch.shape}\")"
   ]
  },
  {
   "cell_type": "markdown",
   "metadata": {},
   "source": [
    "### Real noise\n",
    "\n",
    "Sample batch of real noise"
   ]
  },
  {
   "cell_type": "code",
   "execution_count": 11,
   "metadata": {},
   "outputs": [
    {
     "name": "stdout",
     "output_type": "stream",
     "text": [
      "Processing 128/128 ... Done!\n",
      "Real trajectories: torch.Size([128, 65536])\n"
     ]
    }
   ],
   "source": [
    "path_real_trajectories = f\"{DATA_PATH}Silence_AKAI_IPS[7.5]_MAXELL_SPLIT/Train\"\n",
    "\n",
    "# Load all wav files in the directory\n",
    "orig_p = os.getcwd()\n",
    "os.chdir(path_real_trajectories)\n",
    "filelist = glob.glob(\"*.wav\")\n",
    "filelist = [os.path.join(path_real_trajectories, f) for f in filelist]\n",
    "test_file = filelist[0]\n",
    "os.chdir(orig_p)\n",
    "\n",
    "# Sample batch\n",
    "batch = torch.zeros((BATCH_SIZE, SAMPLE_LENGTH), device=\"cpu\")\n",
    "j = 0\n",
    "while j < BATCH_SIZE:\n",
    "    for a in filelist:\n",
    "        if j >= BATCH_SIZE:\n",
    "            break\n",
    "        print(f\"Processing {j+1}/{BATCH_SIZE} ...\", end='\\r')\n",
    "        x, fs_file = sf.read(a)\n",
    "\n",
    "        # Downsample to 100 Hz\n",
    "        x = torch.from_numpy(x)\n",
    "        if fs_file != fs:\n",
    "            x = torchaudio.functional.resample(x, fs_file, fs)\n",
    "\n",
    "        # Crop a 512 samples chunk\n",
    "        for k in range(4):\n",
    "            i = torch.randint(0, x.shape[0] - SAMPLE_LENGTH, (1,))\n",
    "            batch[j] = x[i:i + SAMPLE_LENGTH]\n",
    "            j += 1\n",
    "print(f\"Processing {j}/{BATCH_SIZE} ... Done!\")\n",
    "\n",
    "batch = batch\n",
    "\n",
    "print(f\"Real trajectories: {batch.shape}\")"
   ]
  },
  {
   "cell_type": "markdown",
   "metadata": {},
   "source": [
    "### Visualizations\n",
    "\n",
    "Compute statistics"
   ]
  },
  {
   "cell_type": "code",
   "execution_count": 12,
   "metadata": {},
   "outputs": [
    {
     "name": "stdout",
     "output_type": "stream",
     "text": [
      "Computing LTAS for generated noise.\n",
      "Computing LTAS for sampled noise.\n",
      "Processing 128/128 ...\r"
     ]
    }
   ],
   "source": [
    "def LTAS(batch):\n",
    "    \"\"\"Compute the LTAS of a batch of trajectories.\"\"\"\n",
    "    # Setup\n",
    "    batch_size = batch.shape[0]\n",
    "    length = batch.shape[1]\n",
    "\n",
    "    # Compute\n",
    "    LTAS_batch = torch.zeros((batch_size, length // 2 + 1), device=\"cpu\")\n",
    "    freqs = torch.fft.rfftfreq(length, d=1 / fs)\n",
    "    for i in range(batch_size):\n",
    "        print(f\"Processing {i+1}/{batch_size} ...\", end='\\r')\n",
    "        a = (torch.abs(torch.fft.rfft(batch[i])))\n",
    "        a = a.numpy()\n",
    "        LTAS_batch[i] = torch.from_numpy(smooth_spectrum(a, freqs.numpy(), 6))\n",
    "\n",
    "        # This is super slow, it could be parallelized but I was lazy\n",
    "        # now do the average smooth spectrum\n",
    "\n",
    "        # print(LTAS_batch.shape, freqs.shape)\n",
    "        # LTAS_batch=torch.from_numpy(LTAS_batch)\n",
    "\n",
    "    LTAS_batch_mean = (LTAS_batch.mean(0))\n",
    "    LTAS_std_top = LTAS_batch_mean + LTAS_batch.std(0)\n",
    "    LTAS_std_bottom = LTAS_batch_mean - LTAS_batch.std(0)\n",
    "\n",
    "    #now smooth the result\n",
    "    #LTAS_batch=torch.nn.functional.avg_pool1d(LTAS_batch.unsqueeze(0).unsqueeze(0), kernel_size=5, stride=1, padding=2, ceil_mode=False).squeeze()\n",
    "    #now in dB\n",
    "    #LTAS_batch_mean=20*torch.log10(LTAS_batch_mean)\n",
    "    #LTAS_batch_std=20*torch.log10(LTAS_std)\n",
    "\n",
    "    return 20 * torch.log10(LTAS_batch_mean), 20 * torch.log10(\n",
    "        LTAS_std_top), 20 * torch.log10(LTAS_std_bottom)\n",
    "\n",
    "\n",
    "print(\"Computing LTAS for generated noise.\")\n",
    "LTAS_mean, LTAS_std_up, LTAS_std_bottom = LTAS(batch)\n",
    "print(\"Computing LTAS for sampled noise.\")\n",
    "pred_LTAS_mean, pred_LTAS_std_up, pred_LTAS_std_bottom = LTAS(pred_batch)"
   ]
  },
  {
   "cell_type": "code",
   "execution_count": 13,
   "metadata": {},
   "outputs": [],
   "source": [
    "# Normalize range\n",
    "LTAS_mean -= 10\n",
    "LTAS_std_up -= 10\n",
    "LTAS_std_bottom -= 10\n",
    "pred_LTAS_mean -= 10\n",
    "pred_LTAS_std_bottom -= 10\n",
    "pred_LTAS_std_up -= 10"
   ]
  },
  {
   "cell_type": "markdown",
   "metadata": {},
   "source": [
    "Visualize statistics"
   ]
  },
  {
   "cell_type": "code",
   "execution_count": 15,
   "metadata": {},
   "outputs": [
    {
     "data": {
      "image/png": "[encoded data removed]",
      "text/plain": [
       "<Figure size 327x186.857 with 1 Axes>"
      ]
     },
     "metadata": {},
     "output_type": "display_data"
    }
   ],
   "source": [
    "# SETUP\n",
    "\n",
    "FIG_MULTIPLIER = 0.75\n",
    "COLS = 1\n",
    "ROWS = 1\n",
    "RATIO = (1.75, 1)\n",
    "NFFT = int(2**15)\n",
    "PLOT_BATCH_SIZE = 4\n",
    "labels_input = [\"input, L\", \"input, R\"]\n",
    "labels_target = [\"output, L\", \"output, R\"]\n",
    "\n",
    "prettyfier = Prettyfier(mode=\"paper_1col\", ratio=RATIO)\n",
    "prettyfier.font_size *= 0.95\n",
    "\n",
    "ALPHA = prettyfier.alpha\n",
    "DB_LIMS = prettyfier.db_lims\n",
    "\n",
    "prop_cycle = plt.rcParams['axes.prop_cycle']\n",
    "colors = prop_cycle.by_key()['color']\n",
    "\n",
    "gs = plt.GridSpec(ROWS, COLS)\n",
    "\n",
    "plt.rcParams['font.family'] = prettyfier.font_type\n",
    "plt.rcParams['font.size'] = prettyfier.font_size\n",
    "plt.rcParams['axes.labelsize'] = prettyfier.font_size * 6.0 / 6.0\n",
    "plt.rcParams['xtick.labelsize'] = prettyfier.font_size * 5 / 6.0\n",
    "plt.rcParams['ytick.labelsize'] = prettyfier.font_size * 5 / 6.0\n",
    "plt.rcParams['lines.linewidth'] = prettyfier.line_width * 0.5\n",
    "\n",
    "# Start plotting\n",
    "t = np.arange(0, batch.shape[-1] / fs, 1 / fs)\n",
    "f = np.arange(0, fs / 2, fs / SAMPLE_LENGTH)\n",
    "\n",
    "FIG_MULTIPLIER = 1\n",
    "fig = plt.figure(0, (prettyfier.fig_size[0] * FIG_MULTIPLIER,\n",
    "                     prettyfier.fig_size[1] * FIG_MULTIPLIER))\n",
    "fig.clf()\n",
    "\n",
    "# Real\n",
    "mu = LTAS_mean[0:-1].flatten().numpy()\n",
    "sigma_bottom = LTAS_std_bottom[0:-1].flatten().numpy()\n",
    "sigma_up = LTAS_std_up[0:-1].flatten().numpy()\n",
    "\n",
    "ax = fig.add_subplot(gs[0, 0])\n",
    "\n",
    "ax.plot(f, mu, color=\"red\", label=\"Measured\")\n",
    "ax.fill_between(f, sigma_up, sigma_bottom, facecolor='red', alpha=0.3)\n",
    "\n",
    "# Generated\n",
    "mu = pred_LTAS_mean[0:-1].flatten().numpy()\n",
    "sigma_up = pred_LTAS_std_up[0:-1].flatten().numpy()\n",
    "sigma_bottom = pred_LTAS_std_bottom[0:-1].flatten().numpy()\n",
    "\n",
    "ax.plot(f, mu, color=\"green\", label=\"Generated\")\n",
    "ax.fill_between(f, sigma_up, sigma_bottom, facecolor='green', alpha=0.3)\n",
    "\n",
    "ax.set_title('Averaged spectra')\n",
    "\n",
    "ax.set_ylabel('Magnitude [dB]')\n",
    "ax.set_ylim(-40, 6)\n",
    "\n",
    "ax.set_xlabel('Frequency [Hz]')\n",
    "ax.set_xscale(\"log\")\n",
    "ax.set_xlim(20, 20000)\n",
    "ax.xaxis.set_major_formatter(mpl.ticker.ScalarFormatter())\n",
    "x_ticks = ax.get_xticks()\n",
    "ax.set_xticks([100, 1000, 10000], [\"100\", \"1k\", \"10k\"])\n",
    "\n",
    "ax.legend(loc='upper right')\n",
    "\n",
    "ax.grid()\n",
    "\n",
    "plt.tight_layout()\n",
    "\n",
    "plt.show()\n",
    "\n",
    "if SAVE_FIGS:\n",
    "    fig.savefig(\"../results/noise_spectra.pdf\", bbox_inches='tight') # PDF\n",
    "    fig.savefig(\"../results/noise_spectra.png\", bbox_inches='tight') # PNG"
   ]
  },
  {
   "cell_type": "markdown",
   "metadata": {},
   "source": [
    "### Sound Example\n",
    "\n",
    "Generate sound example"
   ]
  },
  {
   "cell_type": "code",
   "execution_count": 29,
   "metadata": {},
   "outputs": [
    {
     "name": "stdout",
     "output_type": "stream",
     "text": [
      "test schedule tensor([0.0000e+00, 5.0000e-05, 1.0392e-04, 2.0546e-04, 3.8893e-04, 7.0858e-04,\n",
      "        1.2478e-03, 2.1319e-03, 3.5443e-03, 5.7494e-03, 9.1206e-03, 1.4177e-02,\n",
      "        2.1629e-02, 3.2439e-02, 4.7889e-02, 6.9672e-02, 1.0000e-01])\n",
      "torch.Size([1, 882000])\n"
     ]
    }
   ],
   "source": [
    "pred = generator.sample_long(20)\n",
    "print(pred.shape)"
   ]
  },
  {
   "cell_type": "markdown",
   "metadata": {},
   "source": [
    "### Listen to example"
   ]
  },
  {
   "cell_type": "code",
   "execution_count": 34,
   "metadata": {},
   "outputs": [],
   "source": [
    "sd.play(pred[0], 44100) # original\n",
    "\n",
    "# sd.play(0.25 * pred[0]/max((pred[0])), fs) # normalized"
   ]
  }
 ],
 "metadata": {
  "kernelspec": {
   "display_name": "Python 3 (ipykernel)",
   "language": "python",
   "name": "python3"
  },
  "language_info": {
   "codemirror_mode": {
    "name": "ipython",
    "version": 3
   },
   "file_extension": ".py",
   "mimetype": "text/x-python",
   "name": "python",
   "nbconvert_exporter": "python",
   "pygments_lexer": "ipython3",
   "version": "3.9.15"
  },
  "vscode": {
   "interpreter": {
    "hash": "1855d0231afb5169cb856d2672d433d34491c9c8c12df85d7b5714aea67ec08c"
   }
  }
 },
 "nbformat": 4,
 "nbformat_minor": 2
}
